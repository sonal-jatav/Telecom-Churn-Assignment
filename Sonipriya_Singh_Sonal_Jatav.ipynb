{
 "cells": [
  {
   "cell_type": "markdown",
   "id": "271a5785-a82c-4861-88a2-90852253bdd9",
   "metadata": {},
   "source": [
    "## Telecom Churn Assignment\n",
    "\n",
    "### Objective:\n",
    "Evaluate the features of telecom churn dataset and derive the following:\n",
    "1. Predict high value will churn or not\n",
    "2. Identify important variables\n",
    "3. Derive evaluation metrics: accuracy, sensitivity, specificity, precision, recall, ROC (Receiver operating characteristic)\n",
    "4. Based on customer churn recommend strategies to manage customers \n",
    "\n",
    "---\n",
    "#### GOAL\n",
    "\n",
    "**Identify important features to determine customer churn and also if the customer will churn or no**\n",
    "\n",
    "---\n",
    "#### Problem Statement:\n",
    "There are multiple features related to usage of different telecom services in the dataset for each customer \n",
    "\n",
    "---\n",
    "#### Steps\n",
    "<!-- Since we want multiple feature determining relationship with demand/ count, it would require to apply multiple linear regression model -->\n",
    "\n",
    "---\n",
    "\n",
    "1. Understand Data\n",
    "2. Data cleaning - remove outliers, null values, fix data types\n",
    "3. Data Analysis - Univariate, Bivariate, Multivariate\n",
    "4. Preprocessing data\n",
    "5. a. Handle missing values\n",
    "6. b. Dummy variable creation/ encode categorical variables\n",
    "7. c. Derive column from other variables\n",
    "8. Split Data (train set, test set)\n",
    "9. Scale numerical variables\n",
    "10. Feature Selection - Random Forest Classifier\n",
    "11. Model Performance (Assess the model’s performance using metrics such as Accuracy, ROC Curve, AUC, gini_impurity)\n",
    "12. Making Predictions (Logistic Regression - Random Forest)\n",
    "13. Model Evaluation (Based on Important features)"
   ]
  },
  {
   "cell_type": "markdown",
   "id": "14304683-a29e-4ad1-9ff0-883597f86a44",
   "metadata": {},
   "source": [
    "##### Import Libraries"
   ]
  },
  {
   "cell_type": "code",
   "execution_count": 1,
   "id": "53175006-33e1-4c85-a36f-08775318052f",
   "metadata": {},
   "outputs": [],
   "source": [
    "#Load the necessary Libraries\n",
    "import pandas as pd\n",
    "import numpy as np\n",
    "# Charts and plots\n",
    "import seaborn as sns\n",
    "import matplotlib.pyplot as plt\n",
    "import plotly.express as px\n",
    "# Warnings library\n",
    "import warnings #warning\n",
    "warnings.filterwarnings('ignore')\n",
    "\n",
    "\n",
    "#Removing display limit of dataframe (optional cell to run)\n",
    "pd.set_option('display.max_rows', None)\n",
    "pd.set_option('display.max_columns', None)\n",
    "pd.set_option('display.width', None)"
   ]
  },
  {
   "cell_type": "code",
   "execution_count": 2,
   "id": "948449c2-dd48-4217-9b12-3fe8f166d33d",
   "metadata": {},
   "outputs": [],
   "source": [
    "# Load Data from train set\n",
    "train_set = pd.read_csv('train.csv')\n",
    "test_data = pd.read_csv('test.csv')"
   ]
  },
  {
   "cell_type": "markdown",
   "id": "d50ea730-b27f-4ced-ae27-e1d60f90f30e",
   "metadata": {},
   "source": [
    "---\n",
    "\n",
    "### <font color=blue>Feature Engineering</font>\n"
   ]
  },
  {
   "cell_type": "code",
   "execution_count": 3,
   "id": "1e30d282-1a56-4b64-87fb-6deaa4da2406",
   "metadata": {},
   "outputs": [],
   "source": [
    "# Replace NaN with 0\n",
    "train_set.fillna(0, inplace=True)\n",
    "test_data.fillna(0, inplace=True)"
   ]
  },
  {
   "cell_type": "code",
   "execution_count": 4,
   "id": "073e6197-4661-47ee-bc0a-74fdbdd39bfc",
   "metadata": {},
   "outputs": [],
   "source": [
    "# change object variables to date type (since all object types are date columns)\n",
    "object_train_columns = train_set.select_dtypes(include=['object']).columns\n",
    "object_test_columns = test_data.select_dtypes(include=['object']).columns\n",
    "\n",
    "for col in object_train_columns:\n",
    "    train_set[col] = pd.to_datetime(train_set[col], errors='coerce')  # Convert to datetime, invalid parsing will be set to NaT\n",
    "for col in object_test_columns:\n",
    "    test_data[col] = pd.to_datetime(test_data[col], errors='coerce')  # Convert to datetime, invalid parsing will be set to NaT\n"
   ]
  },
  {
   "cell_type": "code",
   "execution_count": 5,
   "id": "c149a573-df33-4c56-982d-c1c4ebe9d085",
   "metadata": {},
   "outputs": [],
   "source": [
    "# Create new columns from datetime columns\n",
    "train_set['days_since_last_rech_6'] = (train_set['last_date_of_month_6'] - train_set['date_of_last_rech_6']).dt.days\n",
    "train_set['days_since_last_rech_7'] = (train_set['last_date_of_month_7'] - train_set['date_of_last_rech_7']).dt.days\n",
    "train_set['days_since_last_rech_8'] = (train_set['last_date_of_month_8'] - train_set['date_of_last_rech_8']).dt.days\n",
    "\n",
    "test_data['days_since_last_rech_6'] = (test_data['last_date_of_month_6'] - test_data['date_of_last_rech_6']).dt.days\n",
    "test_data['days_since_last_rech_7'] = (test_data['last_date_of_month_7'] - test_data['date_of_last_rech_7']).dt.days\n",
    "test_data['days_since_last_rech_8'] = (test_data['last_date_of_month_8'] - test_data['date_of_last_rech_8']).dt.days"
   ]
  },
  {
   "cell_type": "code",
   "execution_count": 6,
   "id": "8aeab7bd-a718-488a-b482-ef17be7e4b64",
   "metadata": {},
   "outputs": [],
   "source": [
    "# select all numerical columns for scaling\n",
    "train_set_numerical = pd.DataFrame(data = train_set.select_dtypes(include = ['int64', 'float64']))\n",
    "test_set_numerical = pd.DataFrame(data = test_data.select_dtypes(include = ['int64', 'float64']))\n",
    "\n",
    "# remove NaN\n",
    "train_set_numerical.fillna(0, inplace=True)\n",
    "test_set_numerical.fillna(0, inplace=True)\n"
   ]
  },
  {
   "cell_type": "markdown",
   "id": "78f039dd-5650-485f-babe-658068802b23",
   "metadata": {},
   "source": [
    "---\n",
    "\n",
    "### <font color=blue>Train test split </font>"
   ]
  },
  {
   "cell_type": "code",
   "execution_count": 7,
   "id": "0293afae-af00-4cd1-9602-87f0ef681c8f",
   "metadata": {},
   "outputs": [],
   "source": [
    "from sklearn.model_selection import train_test_split\n",
    "\n",
    "\n",
    "X = train_set_numerical.drop(['churn_probability'], axis=1)\n",
    "y = train_set_numerical['churn_probability']\n",
    "# Splitting the data into train and test\n",
    "X_train, X_test, y_train, y_test = train_test_split(X, y, train_size=0.8, test_size=0.2, random_state=100)\n",
    "\n",
    "# preserving id columns to be able to recall when creating sample.csv\n",
    "id_columns = ['id', 'circle_id']\n",
    "\n",
    "X_train_ids = X_train[id_columns]\n",
    "X_test_ids = X_test[id_columns]\n",
    "\n",
    "# remove ID columns for PCA \n",
    "X_train = X_train.drop(['id', 'circle_id'], axis=1)\n",
    "X_test = X_test.drop(['id', 'circle_id'], axis=1)"
   ]
  },
  {
   "cell_type": "markdown",
   "id": "41813692-de07-4d2e-ba1e-8a977a73c2e5",
   "metadata": {
    "scrolled": true
   },
   "source": [
    "---\n",
    "#### <font color=purple>Most of the variables are int/ float and objects are dates therefore:</font>\n",
    "\n",
    "1. No requirement to create dummy variables since no categorical variables are available\n",
    "2. Scaling can be used to scale all the feature variables"
   ]
  },
  {
   "cell_type": "code",
   "execution_count": 8,
   "id": "88730eb9-df24-4471-9152-fa8340eb4e88",
   "metadata": {},
   "outputs": [],
   "source": [
    "from sklearn.preprocessing import StandardScaler\n",
    "\n",
    "standard_scaler = StandardScaler()"
   ]
  },
  {
   "cell_type": "code",
   "execution_count": 9,
   "id": "f3d11257-5fda-4ec8-976a-f521f1cc4e53",
   "metadata": {},
   "outputs": [],
   "source": [
    "# Scale train and test data\n",
    "train_num_scaled = standard_scaler.fit_transform(X_train)\n",
    "train_num_scaled = pd.DataFrame(data = train_num_scaled, columns=X_train.columns, index=X_train.index)\n",
    "\n",
    "test_num_scaled = standard_scaler.transform(X_test)\n",
    "test_num_scaled = pd.DataFrame(data = test_num_scaled, columns=X_test.columns, index=X_test.index)\n",
    "\n",
    "# remove NaN values before applying PCA\n",
    "train_num_scaled.fillna(0, inplace=True)\n",
    "test_num_scaled.fillna(0, inplace=True)\n"
   ]
  },
  {
   "cell_type": "markdown",
   "id": "0d1f753b-df4c-4e46-b027-705531c72da1",
   "metadata": {},
   "source": [
    "---\n",
    "\n",
    "### <font color=blue>Apply PCA on the data</font>\n",
    "\n",
    "What would PCA acheive?\n",
    "\n",
    "1. Reduce dimensionality\n",
    "2. Identify variance in column data\n",
    "3. Remove noise from data - null data\n",
    "4. "
   ]
  },
  {
   "cell_type": "code",
   "execution_count": 10,
   "id": "4a181796-e5fe-41a8-81d2-e66939cb0308",
   "metadata": {},
   "outputs": [],
   "source": [
    "from sklearn.decomposition import PCA\n",
    "\n",
    "pca = PCA(random_state=42)"
   ]
  },
  {
   "cell_type": "code",
   "execution_count": 11,
   "id": "57548250-f9ab-4f65-92bf-6855a4fdb8bc",
   "metadata": {},
   "outputs": [
    {
     "data": {
      "text/html": [
       "<style>#sk-container-id-1 {\n",
       "  /* Definition of color scheme common for light and dark mode */\n",
       "  --sklearn-color-text: black;\n",
       "  --sklearn-color-line: gray;\n",
       "  /* Definition of color scheme for unfitted estimators */\n",
       "  --sklearn-color-unfitted-level-0: #fff5e6;\n",
       "  --sklearn-color-unfitted-level-1: #f6e4d2;\n",
       "  --sklearn-color-unfitted-level-2: #ffe0b3;\n",
       "  --sklearn-color-unfitted-level-3: chocolate;\n",
       "  /* Definition of color scheme for fitted estimators */\n",
       "  --sklearn-color-fitted-level-0: #f0f8ff;\n",
       "  --sklearn-color-fitted-level-1: #d4ebff;\n",
       "  --sklearn-color-fitted-level-2: #b3dbfd;\n",
       "  --sklearn-color-fitted-level-3: cornflowerblue;\n",
       "\n",
       "  /* Specific color for light theme */\n",
       "  --sklearn-color-text-on-default-background: var(--sg-text-color, var(--theme-code-foreground, var(--jp-content-font-color1, black)));\n",
       "  --sklearn-color-background: var(--sg-background-color, var(--theme-background, var(--jp-layout-color0, white)));\n",
       "  --sklearn-color-border-box: var(--sg-text-color, var(--theme-code-foreground, var(--jp-content-font-color1, black)));\n",
       "  --sklearn-color-icon: #696969;\n",
       "\n",
       "  @media (prefers-color-scheme: dark) {\n",
       "    /* Redefinition of color scheme for dark theme */\n",
       "    --sklearn-color-text-on-default-background: var(--sg-text-color, var(--theme-code-foreground, var(--jp-content-font-color1, white)));\n",
       "    --sklearn-color-background: var(--sg-background-color, var(--theme-background, var(--jp-layout-color0, #111)));\n",
       "    --sklearn-color-border-box: var(--sg-text-color, var(--theme-code-foreground, var(--jp-content-font-color1, white)));\n",
       "    --sklearn-color-icon: #878787;\n",
       "  }\n",
       "}\n",
       "\n",
       "#sk-container-id-1 {\n",
       "  color: var(--sklearn-color-text);\n",
       "}\n",
       "\n",
       "#sk-container-id-1 pre {\n",
       "  padding: 0;\n",
       "}\n",
       "\n",
       "#sk-container-id-1 input.sk-hidden--visually {\n",
       "  border: 0;\n",
       "  clip: rect(1px 1px 1px 1px);\n",
       "  clip: rect(1px, 1px, 1px, 1px);\n",
       "  height: 1px;\n",
       "  margin: -1px;\n",
       "  overflow: hidden;\n",
       "  padding: 0;\n",
       "  position: absolute;\n",
       "  width: 1px;\n",
       "}\n",
       "\n",
       "#sk-container-id-1 div.sk-dashed-wrapped {\n",
       "  border: 1px dashed var(--sklearn-color-line);\n",
       "  margin: 0 0.4em 0.5em 0.4em;\n",
       "  box-sizing: border-box;\n",
       "  padding-bottom: 0.4em;\n",
       "  background-color: var(--sklearn-color-background);\n",
       "}\n",
       "\n",
       "#sk-container-id-1 div.sk-container {\n",
       "  /* jupyter's `normalize.less` sets `[hidden] { display: none; }`\n",
       "     but bootstrap.min.css set `[hidden] { display: none !important; }`\n",
       "     so we also need the `!important` here to be able to override the\n",
       "     default hidden behavior on the sphinx rendered scikit-learn.org.\n",
       "     See: https://github.com/scikit-learn/scikit-learn/issues/21755 */\n",
       "  display: inline-block !important;\n",
       "  position: relative;\n",
       "}\n",
       "\n",
       "#sk-container-id-1 div.sk-text-repr-fallback {\n",
       "  display: none;\n",
       "}\n",
       "\n",
       "div.sk-parallel-item,\n",
       "div.sk-serial,\n",
       "div.sk-item {\n",
       "  /* draw centered vertical line to link estimators */\n",
       "  background-image: linear-gradient(var(--sklearn-color-text-on-default-background), var(--sklearn-color-text-on-default-background));\n",
       "  background-size: 2px 100%;\n",
       "  background-repeat: no-repeat;\n",
       "  background-position: center center;\n",
       "}\n",
       "\n",
       "/* Parallel-specific style estimator block */\n",
       "\n",
       "#sk-container-id-1 div.sk-parallel-item::after {\n",
       "  content: \"\";\n",
       "  width: 100%;\n",
       "  border-bottom: 2px solid var(--sklearn-color-text-on-default-background);\n",
       "  flex-grow: 1;\n",
       "}\n",
       "\n",
       "#sk-container-id-1 div.sk-parallel {\n",
       "  display: flex;\n",
       "  align-items: stretch;\n",
       "  justify-content: center;\n",
       "  background-color: var(--sklearn-color-background);\n",
       "  position: relative;\n",
       "}\n",
       "\n",
       "#sk-container-id-1 div.sk-parallel-item {\n",
       "  display: flex;\n",
       "  flex-direction: column;\n",
       "}\n",
       "\n",
       "#sk-container-id-1 div.sk-parallel-item:first-child::after {\n",
       "  align-self: flex-end;\n",
       "  width: 50%;\n",
       "}\n",
       "\n",
       "#sk-container-id-1 div.sk-parallel-item:last-child::after {\n",
       "  align-self: flex-start;\n",
       "  width: 50%;\n",
       "}\n",
       "\n",
       "#sk-container-id-1 div.sk-parallel-item:only-child::after {\n",
       "  width: 0;\n",
       "}\n",
       "\n",
       "/* Serial-specific style estimator block */\n",
       "\n",
       "#sk-container-id-1 div.sk-serial {\n",
       "  display: flex;\n",
       "  flex-direction: column;\n",
       "  align-items: center;\n",
       "  background-color: var(--sklearn-color-background);\n",
       "  padding-right: 1em;\n",
       "  padding-left: 1em;\n",
       "}\n",
       "\n",
       "\n",
       "/* Toggleable style: style used for estimator/Pipeline/ColumnTransformer box that is\n",
       "clickable and can be expanded/collapsed.\n",
       "- Pipeline and ColumnTransformer use this feature and define the default style\n",
       "- Estimators will overwrite some part of the style using the `sk-estimator` class\n",
       "*/\n",
       "\n",
       "/* Pipeline and ColumnTransformer style (default) */\n",
       "\n",
       "#sk-container-id-1 div.sk-toggleable {\n",
       "  /* Default theme specific background. It is overwritten whether we have a\n",
       "  specific estimator or a Pipeline/ColumnTransformer */\n",
       "  background-color: var(--sklearn-color-background);\n",
       "}\n",
       "\n",
       "/* Toggleable label */\n",
       "#sk-container-id-1 label.sk-toggleable__label {\n",
       "  cursor: pointer;\n",
       "  display: block;\n",
       "  width: 100%;\n",
       "  margin-bottom: 0;\n",
       "  padding: 0.5em;\n",
       "  box-sizing: border-box;\n",
       "  text-align: center;\n",
       "}\n",
       "\n",
       "#sk-container-id-1 label.sk-toggleable__label-arrow:before {\n",
       "  /* Arrow on the left of the label */\n",
       "  content: \"▸\";\n",
       "  float: left;\n",
       "  margin-right: 0.25em;\n",
       "  color: var(--sklearn-color-icon);\n",
       "}\n",
       "\n",
       "#sk-container-id-1 label.sk-toggleable__label-arrow:hover:before {\n",
       "  color: var(--sklearn-color-text);\n",
       "}\n",
       "\n",
       "/* Toggleable content - dropdown */\n",
       "\n",
       "#sk-container-id-1 div.sk-toggleable__content {\n",
       "  max-height: 0;\n",
       "  max-width: 0;\n",
       "  overflow: hidden;\n",
       "  text-align: left;\n",
       "  /* unfitted */\n",
       "  background-color: var(--sklearn-color-unfitted-level-0);\n",
       "}\n",
       "\n",
       "#sk-container-id-1 div.sk-toggleable__content.fitted {\n",
       "  /* fitted */\n",
       "  background-color: var(--sklearn-color-fitted-level-0);\n",
       "}\n",
       "\n",
       "#sk-container-id-1 div.sk-toggleable__content pre {\n",
       "  margin: 0.2em;\n",
       "  border-radius: 0.25em;\n",
       "  color: var(--sklearn-color-text);\n",
       "  /* unfitted */\n",
       "  background-color: var(--sklearn-color-unfitted-level-0);\n",
       "}\n",
       "\n",
       "#sk-container-id-1 div.sk-toggleable__content.fitted pre {\n",
       "  /* unfitted */\n",
       "  background-color: var(--sklearn-color-fitted-level-0);\n",
       "}\n",
       "\n",
       "#sk-container-id-1 input.sk-toggleable__control:checked~div.sk-toggleable__content {\n",
       "  /* Expand drop-down */\n",
       "  max-height: 200px;\n",
       "  max-width: 100%;\n",
       "  overflow: auto;\n",
       "}\n",
       "\n",
       "#sk-container-id-1 input.sk-toggleable__control:checked~label.sk-toggleable__label-arrow:before {\n",
       "  content: \"▾\";\n",
       "}\n",
       "\n",
       "/* Pipeline/ColumnTransformer-specific style */\n",
       "\n",
       "#sk-container-id-1 div.sk-label input.sk-toggleable__control:checked~label.sk-toggleable__label {\n",
       "  color: var(--sklearn-color-text);\n",
       "  background-color: var(--sklearn-color-unfitted-level-2);\n",
       "}\n",
       "\n",
       "#sk-container-id-1 div.sk-label.fitted input.sk-toggleable__control:checked~label.sk-toggleable__label {\n",
       "  background-color: var(--sklearn-color-fitted-level-2);\n",
       "}\n",
       "\n",
       "/* Estimator-specific style */\n",
       "\n",
       "/* Colorize estimator box */\n",
       "#sk-container-id-1 div.sk-estimator input.sk-toggleable__control:checked~label.sk-toggleable__label {\n",
       "  /* unfitted */\n",
       "  background-color: var(--sklearn-color-unfitted-level-2);\n",
       "}\n",
       "\n",
       "#sk-container-id-1 div.sk-estimator.fitted input.sk-toggleable__control:checked~label.sk-toggleable__label {\n",
       "  /* fitted */\n",
       "  background-color: var(--sklearn-color-fitted-level-2);\n",
       "}\n",
       "\n",
       "#sk-container-id-1 div.sk-label label.sk-toggleable__label,\n",
       "#sk-container-id-1 div.sk-label label {\n",
       "  /* The background is the default theme color */\n",
       "  color: var(--sklearn-color-text-on-default-background);\n",
       "}\n",
       "\n",
       "/* On hover, darken the color of the background */\n",
       "#sk-container-id-1 div.sk-label:hover label.sk-toggleable__label {\n",
       "  color: var(--sklearn-color-text);\n",
       "  background-color: var(--sklearn-color-unfitted-level-2);\n",
       "}\n",
       "\n",
       "/* Label box, darken color on hover, fitted */\n",
       "#sk-container-id-1 div.sk-label.fitted:hover label.sk-toggleable__label.fitted {\n",
       "  color: var(--sklearn-color-text);\n",
       "  background-color: var(--sklearn-color-fitted-level-2);\n",
       "}\n",
       "\n",
       "/* Estimator label */\n",
       "\n",
       "#sk-container-id-1 div.sk-label label {\n",
       "  font-family: monospace;\n",
       "  font-weight: bold;\n",
       "  display: inline-block;\n",
       "  line-height: 1.2em;\n",
       "}\n",
       "\n",
       "#sk-container-id-1 div.sk-label-container {\n",
       "  text-align: center;\n",
       "}\n",
       "\n",
       "/* Estimator-specific */\n",
       "#sk-container-id-1 div.sk-estimator {\n",
       "  font-family: monospace;\n",
       "  border: 1px dotted var(--sklearn-color-border-box);\n",
       "  border-radius: 0.25em;\n",
       "  box-sizing: border-box;\n",
       "  margin-bottom: 0.5em;\n",
       "  /* unfitted */\n",
       "  background-color: var(--sklearn-color-unfitted-level-0);\n",
       "}\n",
       "\n",
       "#sk-container-id-1 div.sk-estimator.fitted {\n",
       "  /* fitted */\n",
       "  background-color: var(--sklearn-color-fitted-level-0);\n",
       "}\n",
       "\n",
       "/* on hover */\n",
       "#sk-container-id-1 div.sk-estimator:hover {\n",
       "  /* unfitted */\n",
       "  background-color: var(--sklearn-color-unfitted-level-2);\n",
       "}\n",
       "\n",
       "#sk-container-id-1 div.sk-estimator.fitted:hover {\n",
       "  /* fitted */\n",
       "  background-color: var(--sklearn-color-fitted-level-2);\n",
       "}\n",
       "\n",
       "/* Specification for estimator info (e.g. \"i\" and \"?\") */\n",
       "\n",
       "/* Common style for \"i\" and \"?\" */\n",
       "\n",
       ".sk-estimator-doc-link,\n",
       "a:link.sk-estimator-doc-link,\n",
       "a:visited.sk-estimator-doc-link {\n",
       "  float: right;\n",
       "  font-size: smaller;\n",
       "  line-height: 1em;\n",
       "  font-family: monospace;\n",
       "  background-color: var(--sklearn-color-background);\n",
       "  border-radius: 1em;\n",
       "  height: 1em;\n",
       "  width: 1em;\n",
       "  text-decoration: none !important;\n",
       "  margin-left: 1ex;\n",
       "  /* unfitted */\n",
       "  border: var(--sklearn-color-unfitted-level-1) 1pt solid;\n",
       "  color: var(--sklearn-color-unfitted-level-1);\n",
       "}\n",
       "\n",
       ".sk-estimator-doc-link.fitted,\n",
       "a:link.sk-estimator-doc-link.fitted,\n",
       "a:visited.sk-estimator-doc-link.fitted {\n",
       "  /* fitted */\n",
       "  border: var(--sklearn-color-fitted-level-1) 1pt solid;\n",
       "  color: var(--sklearn-color-fitted-level-1);\n",
       "}\n",
       "\n",
       "/* On hover */\n",
       "div.sk-estimator:hover .sk-estimator-doc-link:hover,\n",
       ".sk-estimator-doc-link:hover,\n",
       "div.sk-label-container:hover .sk-estimator-doc-link:hover,\n",
       ".sk-estimator-doc-link:hover {\n",
       "  /* unfitted */\n",
       "  background-color: var(--sklearn-color-unfitted-level-3);\n",
       "  color: var(--sklearn-color-background);\n",
       "  text-decoration: none;\n",
       "}\n",
       "\n",
       "div.sk-estimator.fitted:hover .sk-estimator-doc-link.fitted:hover,\n",
       ".sk-estimator-doc-link.fitted:hover,\n",
       "div.sk-label-container:hover .sk-estimator-doc-link.fitted:hover,\n",
       ".sk-estimator-doc-link.fitted:hover {\n",
       "  /* fitted */\n",
       "  background-color: var(--sklearn-color-fitted-level-3);\n",
       "  color: var(--sklearn-color-background);\n",
       "  text-decoration: none;\n",
       "}\n",
       "\n",
       "/* Span, style for the box shown on hovering the info icon */\n",
       ".sk-estimator-doc-link span {\n",
       "  display: none;\n",
       "  z-index: 9999;\n",
       "  position: relative;\n",
       "  font-weight: normal;\n",
       "  right: .2ex;\n",
       "  padding: .5ex;\n",
       "  margin: .5ex;\n",
       "  width: min-content;\n",
       "  min-width: 20ex;\n",
       "  max-width: 50ex;\n",
       "  color: var(--sklearn-color-text);\n",
       "  box-shadow: 2pt 2pt 4pt #999;\n",
       "  /* unfitted */\n",
       "  background: var(--sklearn-color-unfitted-level-0);\n",
       "  border: .5pt solid var(--sklearn-color-unfitted-level-3);\n",
       "}\n",
       "\n",
       ".sk-estimator-doc-link.fitted span {\n",
       "  /* fitted */\n",
       "  background: var(--sklearn-color-fitted-level-0);\n",
       "  border: var(--sklearn-color-fitted-level-3);\n",
       "}\n",
       "\n",
       ".sk-estimator-doc-link:hover span {\n",
       "  display: block;\n",
       "}\n",
       "\n",
       "/* \"?\"-specific style due to the `<a>` HTML tag */\n",
       "\n",
       "#sk-container-id-1 a.estimator_doc_link {\n",
       "  float: right;\n",
       "  font-size: 1rem;\n",
       "  line-height: 1em;\n",
       "  font-family: monospace;\n",
       "  background-color: var(--sklearn-color-background);\n",
       "  border-radius: 1rem;\n",
       "  height: 1rem;\n",
       "  width: 1rem;\n",
       "  text-decoration: none;\n",
       "  /* unfitted */\n",
       "  color: var(--sklearn-color-unfitted-level-1);\n",
       "  border: var(--sklearn-color-unfitted-level-1) 1pt solid;\n",
       "}\n",
       "\n",
       "#sk-container-id-1 a.estimator_doc_link.fitted {\n",
       "  /* fitted */\n",
       "  border: var(--sklearn-color-fitted-level-1) 1pt solid;\n",
       "  color: var(--sklearn-color-fitted-level-1);\n",
       "}\n",
       "\n",
       "/* On hover */\n",
       "#sk-container-id-1 a.estimator_doc_link:hover {\n",
       "  /* unfitted */\n",
       "  background-color: var(--sklearn-color-unfitted-level-3);\n",
       "  color: var(--sklearn-color-background);\n",
       "  text-decoration: none;\n",
       "}\n",
       "\n",
       "#sk-container-id-1 a.estimator_doc_link.fitted:hover {\n",
       "  /* fitted */\n",
       "  background-color: var(--sklearn-color-fitted-level-3);\n",
       "}\n",
       "</style><div id=\"sk-container-id-1\" class=\"sk-top-container\"><div class=\"sk-text-repr-fallback\"><pre>PCA(random_state=42)</pre><b>In a Jupyter environment, please rerun this cell to show the HTML representation or trust the notebook. <br />On GitHub, the HTML representation is unable to render, please try loading this page with nbviewer.org.</b></div><div class=\"sk-container\" hidden><div class=\"sk-item\"><div class=\"sk-estimator fitted sk-toggleable\"><input class=\"sk-toggleable__control sk-hidden--visually\" id=\"sk-estimator-id-1\" type=\"checkbox\" checked><label for=\"sk-estimator-id-1\" class=\"sk-toggleable__label fitted sk-toggleable__label-arrow fitted\">&nbsp;&nbsp;PCA<a class=\"sk-estimator-doc-link fitted\" rel=\"noreferrer\" target=\"_blank\" href=\"https://scikit-learn.org/1.5/modules/generated/sklearn.decomposition.PCA.html\">?<span>Documentation for PCA</span></a><span class=\"sk-estimator-doc-link fitted\">i<span>Fitted</span></span></label><div class=\"sk-toggleable__content fitted\"><pre>PCA(random_state=42)</pre></div> </div></div></div></div>"
      ],
      "text/plain": [
       "PCA(random_state=42)"
      ]
     },
     "execution_count": 11,
     "metadata": {},
     "output_type": "execute_result"
    }
   ],
   "source": [
    "pca.fit(train_num_scaled)"
   ]
  },
  {
   "cell_type": "code",
   "execution_count": 12,
   "id": "96fe9cf0-c3a1-4277-a1fc-dac71f412aa7",
   "metadata": {
    "scrolled": true
   },
   "outputs": [
    {
     "data": {
      "text/plain": [
       "array([1.23883239e-01, 9.21848233e-02, 6.13341874e-02, 4.99346864e-02,\n",
       "       3.68569402e-02, 3.03121693e-02, 2.68688111e-02, 2.41263498e-02,\n",
       "       2.33834578e-02, 2.08893278e-02, 2.01051072e-02, 1.98530588e-02,\n",
       "       1.83784974e-02, 1.77915978e-02, 1.65230179e-02, 1.64584405e-02,\n",
       "       1.47132219e-02, 1.43380908e-02, 1.37652711e-02, 1.29213910e-02,\n",
       "       1.19824745e-02, 1.09064165e-02, 1.07839877e-02, 1.05509817e-02,\n",
       "       1.02350738e-02, 9.95417511e-03, 9.69122170e-03, 9.43866909e-03,\n",
       "       8.35674121e-03, 8.25897769e-03, 7.64329347e-03, 7.46579092e-03,\n",
       "       7.27992150e-03, 6.70638803e-03, 6.66063844e-03, 6.46041360e-03,\n",
       "       6.35024284e-03, 6.20641398e-03, 6.04778381e-03, 5.93645560e-03,\n",
       "       5.80111095e-03, 5.65484343e-03, 5.56436948e-03, 5.43641145e-03,\n",
       "       5.32062782e-03, 5.21067532e-03, 4.97000547e-03, 4.84993359e-03,\n",
       "       4.65628560e-03, 4.63825090e-03, 4.49181068e-03, 4.39866269e-03,\n",
       "       4.17363165e-03, 4.03419522e-03, 3.67522859e-03, 3.59378644e-03,\n",
       "       3.53333618e-03, 3.42707248e-03, 3.32143001e-03, 3.26402485e-03,\n",
       "       3.14685038e-03, 3.13957705e-03, 2.96784166e-03, 2.92918072e-03,\n",
       "       2.85627141e-03, 2.76906273e-03, 2.67330591e-03, 2.62461282e-03,\n",
       "       2.57663098e-03, 2.47100576e-03, 2.34162905e-03, 2.24949226e-03,\n",
       "       2.23643151e-03, 2.20475815e-03, 2.18135576e-03, 2.12475244e-03,\n",
       "       2.07703496e-03, 2.01868692e-03, 1.99344471e-03, 1.88267935e-03,\n",
       "       1.81976475e-03, 1.78159073e-03, 1.73819933e-03, 1.72484297e-03,\n",
       "       1.70963333e-03, 1.62360862e-03, 1.59374009e-03, 1.55800039e-03,\n",
       "       1.54446602e-03, 1.51884008e-03, 1.44892827e-03, 1.39377779e-03,\n",
       "       1.36274709e-03, 1.32064908e-03, 1.25675859e-03, 1.18084947e-03,\n",
       "       1.08408653e-03, 1.07034672e-03, 1.02453526e-03, 9.73704946e-04,\n",
       "       9.05659241e-04, 8.86132546e-04, 8.81902260e-04, 7.51811026e-04,\n",
       "       7.50384804e-04, 6.74928387e-04, 6.51656443e-04, 6.15020239e-04,\n",
       "       5.82226677e-04, 4.89925123e-04, 4.69761481e-04, 4.27310546e-04,\n",
       "       3.49204303e-04, 2.96256764e-04, 2.80461516e-04, 2.51587687e-04,\n",
       "       2.33936158e-04, 2.08794438e-04, 1.64137764e-04, 1.54945388e-04,\n",
       "       1.45527600e-04, 4.58542600e-05, 2.20244526e-05, 1.02335547e-05,\n",
       "       1.98953011e-06, 7.03609053e-07, 5.08603822e-07, 1.22318111e-11,\n",
       "       5.59774839e-12, 5.36533159e-12, 4.71692434e-12, 2.75623989e-12,\n",
       "       2.49867098e-12, 2.30843428e-12, 1.74707026e-12, 1.67301703e-12,\n",
       "       1.66412031e-12, 1.09599447e-12, 1.03904592e-12, 1.00226909e-12,\n",
       "       6.33805288e-13, 5.40517506e-13, 3.56390348e-13, 2.58562555e-13,\n",
       "       2.36086381e-13, 6.51250493e-18, 6.22335583e-18, 5.53696022e-18,\n",
       "       1.45945184e-18, 1.27370635e-18, 8.27728836e-19, 4.05616919e-19,\n",
       "       0.00000000e+00, 0.00000000e+00, 0.00000000e+00, 0.00000000e+00,\n",
       "       0.00000000e+00, 0.00000000e+00, 0.00000000e+00, 0.00000000e+00,\n",
       "       0.00000000e+00, 0.00000000e+00, 0.00000000e+00])"
      ]
     },
     "execution_count": 12,
     "metadata": {},
     "output_type": "execute_result"
    }
   ],
   "source": [
    "pca.explained_variance_ratio_"
   ]
  },
  {
   "cell_type": "markdown",
   "id": "7e236e9f-5a8e-4fe0-b345-4a6e90e76258",
   "metadata": {},
   "source": [
    "#### <font color=blue> Plot the feature variance in column data</font>"
   ]
  },
  {
   "cell_type": "code",
   "execution_count": 13,
   "id": "6ae7c477-bd4a-413d-855b-f0b37874dd07",
   "metadata": {},
   "outputs": [
    {
     "data": {
      "text/plain": [
       "<BarContainer object of 163 artists>"
      ]
     },
     "execution_count": 13,
     "metadata": {},
     "output_type": "execute_result"
    },
    {
     "data": {
      "image/png": "[encoded data removed]",
      "text/plain": [
       "<Figure size 640x480 with 1 Axes>"
      ]
     },
     "metadata": {},
     "output_type": "display_data"
    }
   ],
   "source": [
    "import matplotlib.pyplot as plt\n",
    "\n",
    "plt.bar(range(1,len(pca.explained_variance_ratio_)+1), pca.explained_variance_ratio_)"
   ]
  },
  {
   "cell_type": "markdown",
   "id": "b0bf1386-33ab-4223-9feb-afbee3f2a3f3",
   "metadata": {},
   "source": [
    "#### <font color=blue>Making the scree plot</font>"
   ]
  },
  {
   "cell_type": "code",
   "execution_count": 14,
   "id": "34f58152-7f57-45a8-86a7-8fb4fe20eacf",
   "metadata": {},
   "outputs": [
    {
     "data": {
      "image/png": "[encoded data removed]",
      "text/plain": [
       "<Figure size 1000x600 with 1 Axes>"
      ]
     },
     "metadata": {},
     "output_type": "display_data"
    }
   ],
   "source": [
    "explained_variance = pca.explained_variance_ratio_\n",
    "\n",
    "# Cumulative explained variance\n",
    "train_num_scaled_cumulative = explained_variance.cumsum()\n",
    "\n",
    "# Plot Scree Plot\n",
    "plt.figure(figsize=(10,6))\n",
    "plt.plot(range(1, len(explained_variance) + 1), train_num_scaled_cumulative, marker='o', linestyle='--')\n",
    "plt.title('Scree Plot: Cumulative Explained Variance vs. Number of Principal Components')\n",
    "plt.xlabel('Number of Principal Components')\n",
    "plt.ylabel('Cumulative Explained Variance')\n",
    "plt.grid()\n",
    "plt.show()"
   ]
  },
  {
   "cell_type": "code",
   "execution_count": 15,
   "id": "b230fd60-b284-4cba-97c6-c920c714ed82",
   "metadata": {},
   "outputs": [
    {
     "data": {
      "text/plain": [
       "57"
      ]
     },
     "execution_count": 15,
     "metadata": {},
     "output_type": "execute_result"
    }
   ],
   "source": [
    "# Derive number of components explaining 90% variance\n",
    "n_components = (train_num_scaled_cumulative < 0.90).sum() + 1 \n",
    "\n",
    "n_components"
   ]
  },
  {
   "cell_type": "code",
   "execution_count": 16,
   "id": "11522950-ee0d-4c0b-a849-469714fa5347",
   "metadata": {},
   "outputs": [],
   "source": [
    "# based on n_components now run PCA\n",
    "pca2 = PCA(n_components=n_components, random_state=42)"
   ]
  },
  {
   "cell_type": "code",
   "execution_count": 17,
   "id": "7bf5ce83-b623-4b74-8138-24ee5ff4c87d",
   "metadata": {},
   "outputs": [],
   "source": [
    "# Run PCA for training and test data set\n",
    "train_pca_fit = pca2.fit_transform(train_num_scaled)\n",
    "test_pca_fit = pca2.transform(test_num_scaled)"
   ]
  },
  {
   "cell_type": "code",
   "execution_count": 18,
   "id": "639b8f42-6c87-4521-be21-ce930c5532e6",
   "metadata": {},
   "outputs": [
    {
     "name": "stdout",
     "output_type": "stream",
     "text": [
      "Training data shape:  (55999, 57)\n",
      "Test data shape:  (14000, 57)\n"
     ]
    }
   ],
   "source": [
    "print('Training data shape: ', train_pca_fit.shape)\n",
    "print('Test data shape: ', test_pca_fit.shape)"
   ]
  },
  {
   "cell_type": "code",
   "execution_count": 19,
   "id": "4255ff13-69f2-402c-aa24-3936e997306d",
   "metadata": {},
   "outputs": [],
   "source": [
    "# Convert the dataset to dataframes\n",
    "train_pca = pd.DataFrame(train_pca_fit, columns=pca2.get_feature_names_out())\n",
    "test_pca = pd.DataFrame(test_pca_fit, columns=pca2.get_feature_names_out())\n"
   ]
  },
  {
   "cell_type": "markdown",
   "id": "8e53ecb3-d53f-4c13-882d-d0ff9aeaf545",
   "metadata": {},
   "source": [
    "--- \n",
    "\n",
    "### <font color=blue>Logistic Regression Model</font>"
   ]
  },
  {
   "cell_type": "code",
   "execution_count": 20,
   "id": "7be2b2fe-b500-48c7-ae9c-0e8a8395eb11",
   "metadata": {},
   "outputs": [],
   "source": [
    "# import relevant libraries\n",
    "from sklearn.linear_model import LogisticRegression\n",
    "from sklearn.metrics import mean_squared_error, r2_score\n",
    "from sklearn.metrics import accuracy_score, confusion_matrix, classification_report\n",
    "from sklearn.model_selection import GridSearchCV, RandomizedSearchCV"
   ]
  },
  {
   "cell_type": "code",
   "execution_count": 21,
   "id": "9ff1c6e4-fbb0-4c51-87e6-30d9fc15ecd5",
   "metadata": {},
   "outputs": [
    {
     "name": "stdout",
     "output_type": "stream",
     "text": [
      "Fitting 4 folds for each of 8 candidates, totalling 32 fits\n",
      "tuned hpyerparameters :(best parameters)  {'C': 10, 'penalty': 'l2'}\n",
      "accuracy : 0.9083554896778341\n"
     ]
    }
   ],
   "source": [
    "# HyperParameter Tuning for Logistic Regression \n",
    "param_grid = {\n",
    "    'C': [0.1, 1, 10, 100], # value of C is inversely related to regularization\n",
    "    'penalty': ['l1', 'l2'] # use Lasso or Ridge regularization respectively\n",
    "}\n",
    "logistic_regression = LogisticRegression()\n",
    "\n",
    "grid_search = GridSearchCV(estimator=logistic_regression,\n",
    "                           param_grid=param_grid,\n",
    "                           cv=4,\n",
    "                           n_jobs=-1, verbose=1, scoring=\"accuracy\")\n",
    "best_fit_regression = grid_search.fit(train_pca, y_train)\n",
    "\n",
    "print(\"tuned hpyerparameters :(best parameters) \",grid_search.best_params_)\n",
    "print(\"accuracy :\",grid_search.best_score_)\n"
   ]
  },
  {
   "cell_type": "code",
   "execution_count": 22,
   "id": "6e21827b-b439-4fb5-b2cc-93a8f469060e",
   "metadata": {},
   "outputs": [],
   "source": [
    "# run prediction and derive y_pred on training data set\n",
    "y_train_pred = best_fit_regression.predict(train_pca)\n"
   ]
  },
  {
   "cell_type": "code",
   "execution_count": 23,
   "id": "24236b19-5625-4b4f-9739-d91730ea7559",
   "metadata": {},
   "outputs": [
    {
     "data": {
      "text/plain": [
       "Churn_Actual  Churn_Predicted\n",
       "0             0                  49676\n",
       "1             0                   4514\n",
       "              1                   1226\n",
       "0             1                    583\n",
       "Name: count, dtype: int64"
      ]
     },
     "execution_count": 23,
     "metadata": {},
     "output_type": "execute_result"
    }
   ],
   "source": [
    "# add the data to a readable Dataframe\n",
    "y_train_pred_final = pd.DataFrame({'Churn_Actual': y_train, 'Churn_Predicted':y_train_pred})\n",
    "y_train_pred_final.value_counts()"
   ]
  },
  {
   "cell_type": "code",
   "execution_count": 24,
   "id": "8b81066c-2bfe-4572-8c33-5cdb727924c1",
   "metadata": {},
   "outputs": [],
   "source": [
    "# run prediction and derive y_pred\n",
    "y_test_pred = best_fit_regression.predict(test_pca)\n",
    "\n",
    "y_test_pred_final = pd.DataFrame({'Cust_ID': X_test_ids.id, 'Churn_Predicted':y_test_pred})\n"
   ]
  },
  {
   "cell_type": "code",
   "execution_count": 25,
   "id": "d85bb445-e11b-4125-b50c-87f3910747d5",
   "metadata": {},
   "outputs": [],
   "source": [
    "# transform the actual data - perform null value replacement, predict outcome and export to csv\n",
    "actual_data_numerical = pd.DataFrame(data = test_data.select_dtypes(include = ['int64', 'float64']))\n",
    "actual_data_numerical = actual_data_numerical.drop(['id', 'circle_id'], axis=1)\n",
    "actual_data_numerical.fillna(0, inplace=True)\n",
    "actual_data_scaled = standard_scaler.transform(actual_data_numerical)\n",
    "actual_data_scaled = pd.DataFrame(data = actual_data_numerical, columns=actual_data_numerical.columns, index=actual_data_numerical.index)\n",
    "actual_data_pca_fit = pca2.transform(actual_data_scaled)\n",
    "\n",
    "actual_data_pred = best_fit_regression.predict(actual_data_pca_fit)\n",
    "actual_pred_final = pd.DataFrame({'Cust_ID': test_data.id, 'Churn_Predicted':actual_data_pred})\n",
    "actual_pred_final['Churn_Predicted'].value_counts()\n",
    "\n",
    "\n",
    "# export predictions to csv\n",
    "actual_pred_final.to_csv('Sonipriya_Singh_Sonal_Jatav.csv', index=False)\n"
   ]
  },
  {
   "cell_type": "markdown",
   "id": "f7173207-5112-4d10-8ce2-410eb0706693",
   "metadata": {},
   "source": [
    "### <font color=blue>Model Evaluation</font>"
   ]
  },
  {
   "cell_type": "code",
   "execution_count": 26,
   "id": "e1e7a5d6-1661-46ab-8ce9-29fcc0856504",
   "metadata": {},
   "outputs": [],
   "source": [
    "from sklearn.metrics import (\n",
    "    confusion_matrix,\n",
    "    accuracy_score,\n",
    "    precision_score,\n",
    "    recall_score,\n",
    "    f1_score,\n",
    "    precision_recall_curve,\n",
    "    roc_curve,\n",
    "    roc_auc_score\n",
    ")"
   ]
  },
  {
   "cell_type": "code",
   "execution_count": 27,
   "id": "7183b6e9-3759-45f9-b6e5-cd9ee3075dc7",
   "metadata": {},
   "outputs": [
    {
     "name": "stdout",
     "output_type": "stream",
     "text": [
      "Training Data set Accuracy 0.9089805175092412\n",
      "Testing Data set Accuracy 0.9102857142857143\n"
     ]
    }
   ],
   "source": [
    "# Training data set accuracy based on Logistic Regression Model\n",
    "train_accuracy = accuracy_score(y_train, y_train_pred)\n",
    "# Test data set accuracy based on Logistic Regression Model\n",
    "test_accuracy = accuracy_score(y_test, y_test_pred)\n",
    "\n",
    "print('Training Data set Accuracy', train_accuracy)\n",
    "print('Testing Data set Accuracy', test_accuracy)\n"
   ]
  },
  {
   "cell_type": "code",
   "execution_count": 28,
   "id": "e3187a74-a8f8-4665-baaa-745a13e4116a",
   "metadata": {},
   "outputs": [
    {
     "data": {
      "text/plain": [
       "array([[49676,   583],\n",
       "       [ 4514,  1226]])"
      ]
     },
     "execution_count": 28,
     "metadata": {},
     "output_type": "execute_result"
    }
   ],
   "source": [
    "confusion = confusion_matrix(y_train_pred_final.Churn_Actual, y_train_pred_final.Churn_Predicted )\n",
    "confusion"
   ]
  },
  {
   "cell_type": "code",
   "execution_count": 29,
   "id": "68d1cba8-e24a-47de-a592-eaef2461119a",
   "metadata": {},
   "outputs": [
    {
     "name": "stdout",
     "output_type": "stream",
     "text": [
      "Precision = 0.6440677966101694\n",
      "Recall = 0.21839080459770116\n",
      "F1 Score = 0.3261802575107296\n"
     ]
    }
   ],
   "source": [
    "precision = precision_score(y_test, y_test_pred)\n",
    "recall = recall_score(y_test, y_test_pred)\n",
    "f1score = f1_score(y_test, y_test_pred)\n",
    " \n",
    "print(f\"Precision = {precision}\")\n",
    "print(f\"Recall = {recall}\")\n",
    "print(f\"F1 Score = {f1score}\")"
   ]
  },
  {
   "cell_type": "code",
   "execution_count": 30,
   "id": "125e786e-4a90-45fd-9dd4-df670d7ad059",
   "metadata": {},
   "outputs": [
    {
     "data": {
      "image/png": "[encoded data removed]",
      "text/plain": [
       "<Figure size 640x480 with 1 Axes>"
      ]
     },
     "metadata": {},
     "output_type": "display_data"
    }
   ],
   "source": [
    "p, r, thresholds = precision_recall_curve(y_train_pred_final.Churn_Actual, y_train_pred_final.Churn_Predicted)\n",
    "plt.plot(thresholds, p[:-1], \"g-\")\n",
    "plt.plot(thresholds, r[:-1], \"r-\")\n",
    "plt.show()"
   ]
  },
  {
   "cell_type": "code",
   "execution_count": 31,
   "id": "803b7b57-b0c2-40c2-bd3d-caf1059967cb",
   "metadata": {},
   "outputs": [],
   "source": [
    "def draw_roc( actual, probs ):\n",
    "    fpr, tpr, thresholds = roc_curve( actual, probs,\n",
    "                                              drop_intermediate = False )\n",
    "    auc_score = roc_auc_score( actual, probs )\n",
    "    plt.figure(figsize=(5, 5))\n",
    "    plt.plot( fpr, tpr, label='ROC curve (area = %0.2f)' % auc_score )\n",
    "    plt.plot([0, 1], [0, 1], 'k--')\n",
    "    plt.xlim([0.0, 1.0])\n",
    "    plt.ylim([0.0, 1.05])\n",
    "    plt.xlabel('False Positive Rate or [1 - True Negative Rate]')\n",
    "    plt.ylabel('True Positive Rate')\n",
    "    plt.title('Receiver operating characteristic example')\n",
    "    plt.legend(loc=\"lower right\")\n",
    "    plt.show()"
   ]
  },
  {
   "cell_type": "code",
   "execution_count": 32,
   "id": "2b3640aa-f5ac-4218-8884-948b02cf796f",
   "metadata": {},
   "outputs": [],
   "source": [
    "fpr, tpr, thresholds = roc_curve( y_train_pred_final.Churn_Actual, y_train_pred_final.Churn_Predicted, drop_intermediate = False )"
   ]
  },
  {
   "cell_type": "code",
   "execution_count": 33,
   "id": "3822b6f8-c9e5-4f4f-bf26-4af4f7204bb0",
   "metadata": {},
   "outputs": [
    {
     "data": {
      "image/png": "[encoded data removed]",
      "text/plain": [
       "<Figure size 500x500 with 1 Axes>"
      ]
     },
     "metadata": {},
     "output_type": "display_data"
    }
   ],
   "source": [
    "draw_roc(y_train_pred_final.Churn_Actual, y_train_pred_final.Churn_Predicted)"
   ]
  },
  {
   "cell_type": "markdown",
   "id": "649c10b7-07b4-49f0-b2e7-c05cf59e4b2e",
   "metadata": {},
   "source": [
    "---\n",
    "\n",
    "## <font color=blue>Derive Important features using RandomForest Classifier</font>"
   ]
  },
  {
   "cell_type": "code",
   "execution_count": 34,
   "id": "5580f7af-4f5d-4fd6-ae14-44ee9133744e",
   "metadata": {},
   "outputs": [],
   "source": [
    "# import relevant libraries\n",
    "from sklearn.ensemble import RandomForestClassifier"
   ]
  },
  {
   "cell_type": "code",
   "execution_count": 35,
   "id": "5acd30df-2ddc-45d5-908a-d85b39df2c1c",
   "metadata": {},
   "outputs": [],
   "source": [
    "# Hyperparameter tuning using GridSearchCV\n",
    "\n",
    "params = {\n",
    "    'max_depth': [10, 20, 30, None],\n",
    "    'min_samples_leaf': [1, 2, 5, 10],\n",
    "    'max_features': ['sqrt', 'log2'],\n",
    "    'criterion': ['gini', 'entropy'],\n",
    "    'oob_score': [True],\n",
    "    'n_estimators': [50, 100, 200]\n",
    "}\n",
    "\n",
    "random_forest = RandomForestClassifier()\n",
    "\n",
    "grid_search_rf = GridSearchCV(estimator=random_forest,\n",
    "                           param_grid=params,\n",
    "                           cv=4,\n",
    "                           n_jobs=-1, verbose=1, scoring=\"accuracy\")\n"
   ]
  },
  {
   "cell_type": "code",
   "execution_count": 36,
   "id": "2514ad08-a58a-467b-a147-89d087c14265",
   "metadata": {},
   "outputs": [
    {
     "name": "stdout",
     "output_type": "stream",
     "text": [
      "Fitting 4 folds for each of 192 candidates, totalling 768 fits\n",
      "Tuned hpyerparameters:  {'criterion': 'entropy', 'max_depth': 30, 'max_features': 'sqrt', 'min_samples_leaf': 5, 'n_estimators': 50, 'oob_score': True}\n",
      "----------------------------------------\n",
      "Accuracy:  0.9417132728868388\n",
      "CPU times: user 15.5 s, sys: 3 s, total: 18.5 s\n",
      "Wall time: 24min 59s\n"
     ]
    }
   ],
   "source": [
    "%%time\n",
    "# Run the best fitting Random forest hyperparameters\n",
    "best_fit_rf = grid_search_rf.fit(X_train, y_train)\n",
    "\n",
    "print(\"Tuned hpyerparameters: \",grid_search_rf.best_params_)\n",
    "print('--'*20)\n",
    "print(\"Accuracy: \",grid_search_rf.best_score_)"
   ]
  },
  {
   "cell_type": "code",
   "execution_count": 37,
   "id": "3bc6cf75-66dc-4b14-a678-bc6f690082ea",
   "metadata": {},
   "outputs": [
    {
     "name": "stdout",
     "output_type": "stream",
     "text": [
      "RandomForestClassifier(criterion='entropy', max_depth=30, min_samples_leaf=5,\n",
      "                       n_estimators=50, oob_score=True)\n",
      "----------------------------------------\n",
      "Train Accuracy:  0.9643922212896658\n",
      "Train Confusion Matrix: \n",
      "[[49826   433]\n",
      " [ 1561  4179]]\n",
      "--------------------\n",
      "Test Accuracy:  0.9452142857142857\n",
      "Test Confusion Matrix: \n",
      "[[12398   210]\n",
      " [  557   835]]\n"
     ]
    }
   ],
   "source": [
    "rf_best = grid_search_rf.best_estimator_\n",
    "print(rf_best)\n",
    "print('--'*20)\n",
    "\n",
    "# Printing Accuracy and other metrics\n",
    "print(\"Train Accuracy: \", accuracy_score(y_train, rf_best.predict(X_train)))\n",
    "print(\"Train Confusion Matrix: \")\n",
    "print(confusion_matrix(y_train, rf_best.predict(X_train)))\n",
    "print(\"-\"*20)\n",
    "print(\"Test Accuracy: \", accuracy_score(y_test, rf_best.predict(X_test)))\n",
    "print(\"Test Confusion Matrix: \")\n",
    "print(confusion_matrix(y_test, rf_best.predict(X_test)))"
   ]
  },
  {
   "cell_type": "code",
   "execution_count": 38,
   "id": "a1c6242e-d78d-4da0-92d3-c349bb7103b2",
   "metadata": {},
   "outputs": [
    {
     "name": "stdout",
     "output_type": "stream",
     "text": [
      "Gini Mean Accuracy:  0.9411263900200993\n",
      "Entropy Mean Accuracy:  0.9412478588766119\n"
     ]
    }
   ],
   "source": [
    "# Gini and Entropy values\n",
    "\n",
    "results = pd.DataFrame(grid_search_rf.cv_results_)\n",
    "\n",
    "# Filter the results for the gini and entropy criteria\n",
    "gini_results = results[results['param_criterion'] == 'gini']\n",
    "entropy_results = results[results['param_criterion'] == 'entropy']\n",
    "\n",
    "# Print the mean test accuracy for each criterion\n",
    "print(\"Gini Mean Accuracy: \", gini_results['mean_test_score'].mean())\n",
    "print(\"Entropy Mean Accuracy: \", entropy_results['mean_test_score'].mean())"
   ]
  },
  {
   "cell_type": "code",
   "execution_count": 39,
   "id": "b0427680-4e4b-4c60-ab19-1acd0443a60c",
   "metadata": {
    "scrolled": true
   },
   "outputs": [
    {
     "data": {
      "text/plain": [
       "array([0.00000000e+00, 0.00000000e+00, 0.00000000e+00, 6.84429689e-03,\n",
       "       9.42863672e-03, 1.78085406e-02, 5.56617608e-03, 7.08087226e-03,\n",
       "       2.57069854e-02, 6.10103597e-03, 6.26533467e-03, 1.87898831e-02,\n",
       "       2.35589017e-03, 3.58770673e-03, 1.35521593e-02, 2.03818008e-03,\n",
       "       3.59273125e-03, 2.13632935e-02, 4.84734498e-03, 8.64790148e-03,\n",
       "       2.66825189e-02, 5.56893563e-03, 5.24065636e-03, 3.72635579e-02,\n",
       "       2.36250568e-03, 1.87074413e-03, 3.56186759e-03, 1.35065545e-03,\n",
       "       1.55478952e-03, 1.40192990e-03, 5.62568307e-03, 5.16661923e-03,\n",
       "       4.24849031e-02, 4.29591732e-03, 3.74674566e-03, 2.87238084e-03,\n",
       "       4.38144956e-03, 4.31241175e-03, 5.08220130e-03, 5.37711529e-04,\n",
       "       2.91596816e-04, 2.42192385e-04, 0.00000000e+00, 0.00000000e+00,\n",
       "       0.00000000e+00, 4.75631810e-03, 6.91409575e-03, 1.33871835e-02,\n",
       "       3.86809977e-04, 6.61110561e-04, 6.41641753e-04, 2.60996165e-03,\n",
       "       4.12018756e-03, 5.65593658e-03, 1.45367710e-03, 0.00000000e+00,\n",
       "       0.00000000e+00, 5.85786128e-03, 1.14814210e-02, 6.11493518e-02,\n",
       "       5.55645176e-03, 5.45183552e-03, 4.47436050e-02, 6.56849686e-03,\n",
       "       1.23864773e-02, 5.01527827e-02, 3.70792238e-03, 3.15054498e-03,\n",
       "       1.48740430e-02, 7.49147238e-03, 1.71824769e-02, 5.46815694e-02,\n",
       "       3.14022480e-03, 3.09317994e-03, 2.41301408e-03, 4.20872805e-03,\n",
       "       3.58361825e-03, 4.69916683e-03, 8.86960627e-04, 8.56654717e-04,\n",
       "       1.72257250e-03, 0.00000000e+00, 0.00000000e+00, 0.00000000e+00,\n",
       "       4.41462878e-03, 4.19310683e-03, 1.08518383e-02, 6.66221674e-03,\n",
       "       1.37128783e-02, 4.76849549e-02, 9.75274166e-04, 6.06814734e-04,\n",
       "       3.14687678e-03, 1.10179537e-03, 1.15504202e-03, 1.10034626e-03,\n",
       "       1.21244177e-03, 1.01041297e-03, 1.27253418e-03, 5.38022454e-03,\n",
       "       7.42092019e-03, 6.56431836e-03, 5.81536222e-03, 6.88483066e-03,\n",
       "       1.72410046e-02, 3.89067880e-03, 5.04161014e-03, 1.53001652e-02,\n",
       "       3.32481964e-03, 3.10195991e-03, 2.82924863e-02, 6.71754682e-04,\n",
       "       1.30587412e-03, 3.63400337e-03, 1.24366863e-03, 2.15716364e-03,\n",
       "       3.41478552e-03, 5.52497636e-04, 5.33540706e-04, 2.63516372e-03,\n",
       "       4.27914785e-04, 2.98348400e-04, 8.21537171e-04, 1.69860061e-03,\n",
       "       2.15737584e-03, 7.64316871e-03, 1.35772253e-03, 2.30399520e-03,\n",
       "       2.78771982e-03, 8.71350850e-04, 1.08679455e-03, 2.03762059e-03,\n",
       "       7.59813367e-04, 9.40058768e-04, 1.42687015e-03, 1.06433316e-03,\n",
       "       1.23398700e-03, 1.67489671e-03, 1.16859063e-05, 3.66322390e-06,\n",
       "       0.00000000e+00, 1.26434310e-04, 1.24402199e-04, 2.69453821e-04,\n",
       "       5.27169709e-04, 4.57149974e-04, 8.84129513e-04, 1.56306006e-04,\n",
       "       2.96365952e-04, 4.71837337e-04, 1.10146361e-04, 1.28958717e-04,\n",
       "       1.23216849e-04, 6.09814194e-04, 6.05946752e-04, 3.79662261e-03,\n",
       "       9.77816300e-03, 1.04132357e-03, 8.81107826e-04, 1.02118617e-03,\n",
       "       4.78635831e-03, 4.94348804e-03, 1.56426693e-02])"
      ]
     },
     "execution_count": 39,
     "metadata": {},
     "output_type": "execute_result"
    }
   ],
   "source": [
    "# List the important features\n",
    "rf_best.feature_importances_"
   ]
  },
  {
   "cell_type": "markdown",
   "id": "976c1b0f-789c-4c2b-b063-57c33b6bfe26",
   "metadata": {},
   "source": [
    "#### <font color=purple>Based on important features run the model</font>"
   ]
  },
  {
   "cell_type": "code",
   "execution_count": 40,
   "id": "abb1a102-0e98-482f-9a84-71f1d804f6b7",
   "metadata": {
    "scrolled": true
   },
   "outputs": [
    {
     "name": "stdout",
     "output_type": "stream",
     "text": [
      "List of Feature Importance               Variable_Name  Feature_Importance\n",
      "59           total_og_mou_8            0.061149\n",
      "71             loc_ic_mou_8            0.054682\n",
      "65         loc_ic_t2m_mou_8            0.050153\n",
      "89           total_ic_mou_8            0.047685\n",
      "62         loc_ic_t2t_mou_8            0.044744\n",
      "32             loc_og_mou_8            0.042485\n",
      "23         loc_og_t2m_mou_8            0.037264\n",
      "110      last_day_rch_amt_8            0.028292\n",
      "20         loc_og_t2t_mou_8            0.026683\n",
      "8               onnet_mou_8            0.025707\n",
      "17            roam_og_mou_8            0.021363\n",
      "11             offnet_mou_8            0.018790\n",
      "5                    arpu_8            0.017809\n",
      "104        total_rech_amt_8            0.017241\n",
      "70             loc_ic_mou_7            0.017182\n",
      "162  days_since_last_rech_8            0.015643\n",
      "107          max_rech_amt_8            0.015300\n",
      "68         loc_ic_t2f_mou_8            0.014874\n",
      "88           total_ic_mou_7            0.013713\n",
      "14            roam_ic_mou_8            0.013552\n",
      "47             std_og_mou_8            0.013387\n",
      "64         loc_ic_t2m_mou_7            0.012386\n",
      "58           total_og_mou_7            0.011481\n",
      "86             std_ic_mou_8            0.010852\n",
      "156                     aon            0.009778\n",
      "4                    arpu_7            0.009429\n",
      "19         loc_og_t2t_mou_7            0.008648\n",
      "125      av_rech_amt_data_8            0.007643\n",
      "69             loc_ic_mou_6            0.007491\n",
      "100        total_rech_num_7            0.007421\n",
      "7               onnet_mou_7            0.007081\n",
      "46             std_og_mou_7            0.006914\n",
      "103        total_rech_amt_7            0.006885\n",
      "3                    arpu_6            0.006844\n",
      "87           total_ic_mou_6            0.006662\n",
      "63         loc_ic_t2m_mou_6            0.006568\n",
      "101        total_rech_num_8            0.006564\n",
      "10             offnet_mou_7            0.006265\n",
      "9              offnet_mou_6            0.006101\n",
      "57           total_og_mou_6            0.005858\n",
      "102        total_rech_amt_6            0.005815\n",
      "53             spl_og_mou_8            0.005656\n",
      "30             loc_og_mou_6            0.005626\n",
      "21         loc_og_t2m_mou_6            0.005569\n",
      "6               onnet_mou_6            0.005566\n",
      "60         loc_ic_t2t_mou_6            0.005556\n",
      "61         loc_ic_t2t_mou_7            0.005452\n",
      "99         total_rech_num_6            0.005380\n",
      "22         loc_og_t2m_mou_7            0.005241\n",
      "31             loc_og_mou_7            0.005167\n",
      "38         std_og_t2m_mou_8            0.005082\n",
      "106          max_rech_amt_7            0.005042\n",
      "161  days_since_last_rech_7            0.004943\n",
      "18         loc_og_t2t_mou_6            0.004847\n",
      "160  days_since_last_rech_6            0.004786\n",
      "45             std_og_mou_6            0.004756\n",
      "77         std_ic_t2m_mou_8            0.004699\n",
      "84             std_ic_mou_6            0.004415\n",
      "36         std_og_t2m_mou_6            0.004381\n",
      "37         std_og_t2m_mou_7            0.004312\n",
      "33         std_og_t2t_mou_6            0.004296\n",
      "75         std_ic_t2m_mou_6            0.004209\n",
      "85             std_ic_mou_7            0.004193\n",
      "52             spl_og_mou_7            0.004120\n",
      "105          max_rech_amt_6            0.003891\n",
      "155               fb_user_8            0.003797\n",
      "34         std_og_t2t_mou_7            0.003747\n",
      "66         loc_ic_t2f_mou_6            0.003708\n",
      "113       total_rech_data_8            0.003634\n",
      "16            roam_og_mou_7            0.003593\n",
      "13            roam_ic_mou_7            0.003588\n",
      "76         std_ic_t2m_mou_7            0.003584\n",
      "26         loc_og_t2f_mou_8            0.003562\n",
      "116         max_rech_data_8            0.003415\n",
      "108      last_day_rch_amt_6            0.003325\n",
      "67         loc_ic_t2f_mou_7            0.003151\n",
      "92             spl_ic_mou_8            0.003147\n",
      "72         std_ic_t2t_mou_6            0.003140\n",
      "109      last_day_rch_amt_7            0.003102\n",
      "73         std_ic_t2t_mou_7            0.003093\n",
      "35         std_og_t2t_mou_8            0.002872\n",
      "128             vol_2g_mb_8            0.002788\n",
      "119         count_rech_2g_8            0.002635\n",
      "51             spl_og_mou_6            0.002610\n",
      "74         std_ic_t2t_mou_8            0.002413\n",
      "24         loc_og_t2f_mou_6            0.002363\n",
      "12            roam_ic_mou_6            0.002356\n",
      "127             vol_2g_mb_7            0.002304\n",
      "124      av_rech_amt_data_7            0.002157\n",
      "115         max_rech_data_7            0.002157\n",
      "15            roam_og_mou_6            0.002038\n",
      "131             vol_3g_mb_8            0.002038\n",
      "25         loc_og_t2f_mou_7            0.001871\n",
      "80         std_ic_t2f_mou_8            0.001723\n",
      "123      av_rech_amt_data_6            0.001699\n",
      "137               arpu_2g_8            0.001675\n",
      "28         loc_og_t2c_mou_7            0.001555\n",
      "54              og_others_6            0.001454\n",
      "134               arpu_3g_8            0.001427\n",
      "29         loc_og_t2c_mou_8            0.001402\n",
      "126             vol_2g_mb_6            0.001358\n",
      "27         loc_og_t2c_mou_6            0.001351\n",
      "112       total_rech_data_7            0.001306\n",
      "98              ic_others_8            0.001273\n",
      "114         max_rech_data_6            0.001244\n",
      "136               arpu_2g_7            0.001234\n",
      "96              ic_others_6            0.001212\n",
      "94             isd_ic_mou_7            0.001155\n",
      "93             isd_ic_mou_6            0.001102\n",
      "95             isd_ic_mou_8            0.001100\n",
      "130             vol_3g_mb_7            0.001087\n",
      "135               arpu_2g_6            0.001064\n",
      "157              aug_vbc_3g            0.001041\n",
      "159              jun_vbc_3g            0.001021\n",
      "97              ic_others_7            0.001010\n",
      "90             spl_ic_mou_6            0.000975\n",
      "133               arpu_3g_7            0.000940\n",
      "78         std_ic_t2f_mou_6            0.000887\n",
      "146             sachet_2g_8            0.000884\n",
      "158              jul_vbc_3g            0.000881\n",
      "129             vol_3g_mb_6            0.000871\n",
      "79         std_ic_t2f_mou_7            0.000857\n",
      "122         count_rech_3g_8            0.000822\n",
      "132               arpu_3g_6            0.000760\n",
      "111       total_rech_data_6            0.000672\n",
      "49             isd_og_mou_7            0.000661\n",
      "50             isd_og_mou_8            0.000642\n",
      "153               fb_user_6            0.000610\n",
      "91             spl_ic_mou_7            0.000607\n",
      "154               fb_user_7            0.000606\n",
      "117         count_rech_2g_6            0.000552\n",
      "39         std_og_t2f_mou_6            0.000538\n",
      "118         count_rech_2g_7            0.000534\n",
      "144             sachet_2g_6            0.000527\n",
      "149            monthly_3g_8            0.000472\n",
      "145             sachet_2g_7            0.000457\n",
      "120         count_rech_3g_6            0.000428\n",
      "48             isd_og_mou_6            0.000387\n",
      "121         count_rech_3g_7            0.000298\n",
      "148            monthly_3g_7            0.000296\n",
      "40         std_og_t2f_mou_7            0.000292\n",
      "143            monthly_2g_8            0.000269\n",
      "41         std_og_t2f_mou_8            0.000242\n",
      "147            monthly_3g_6            0.000156\n",
      "151             sachet_3g_7            0.000129\n",
      "141            monthly_2g_6            0.000126\n",
      "142            monthly_2g_7            0.000124\n",
      "152             sachet_3g_8            0.000123\n",
      "150             sachet_3g_6            0.000110\n",
      "138        night_pck_user_6            0.000012\n",
      "139        night_pck_user_7            0.000004\n",
      "0            loc_og_t2o_mou            0.000000\n",
      "140        night_pck_user_8            0.000000\n",
      "83         std_ic_t2o_mou_8            0.000000\n",
      "82         std_ic_t2o_mou_7            0.000000\n",
      "1            std_og_t2o_mou            0.000000\n",
      "56              og_others_8            0.000000\n",
      "55              og_others_7            0.000000\n",
      "44         std_og_t2c_mou_8            0.000000\n",
      "43         std_og_t2c_mou_7            0.000000\n",
      "42         std_og_t2c_mou_6            0.000000\n",
      "2            loc_ic_t2o_mou            0.000000\n",
      "81         std_ic_t2o_mou_6            0.000000\n"
     ]
    }
   ],
   "source": [
    "# Check if features derived after threshold value derives accuracy similar to what we acheived during Logistic regression\n",
    "feature_importance_df = pd.DataFrame({\n",
    "    \"Variable_Name\": X_train.columns,\n",
    "    \"Feature_Importance\": rf_best.feature_importances_\n",
    "})\n",
    "print('List of Feature Importance', feature_importance_df.sort_values(by='Feature_Importance', ascending=False))\n",
    "\n",
    "threshold = 0.01\n",
    "important_features = feature_importance_df[feature_importance_df['Feature_Importance'] > threshold]\n"
   ]
  },
  {
   "cell_type": "code",
   "execution_count": 41,
   "id": "e7c7541b-3809-4cfe-b9a0-a4a8b4531176",
   "metadata": {},
   "outputs": [
    {
     "name": "stdout",
     "output_type": "stream",
     "text": [
      "Important features - Train Accuracy:  0.9572492365935106\n",
      "Important features - Test Accuracy:  0.944\n"
     ]
    }
   ],
   "source": [
    "\n",
    "# Filter out unimportant features from your dataset\n",
    "X_train_important = X_train[important_features['Variable_Name']]\n",
    "X_test_important = X_test[important_features['Variable_Name']]\n",
    "\n",
    "# Retrain RandomForest on the important features only\n",
    "rf_best_train = rf_best.fit(X_train_important, y_train)\n",
    "\n",
    "# Predict on the train set with important features\n",
    "y_train_rf_pred = rf_best_train.predict(X_train_important)\n",
    "\n",
    "# Predict on the test set with important features\n",
    "y_test_rf_pred = rf_best_train.predict(X_test_important)\n",
    "\n",
    "# Calculate accuracy for the train set\n",
    "train_accuracy = accuracy_score(y_train, y_train_rf_pred)\n",
    "\n",
    "# Calculate accuracy for the test set\n",
    "test_accuracy = accuracy_score(y_test, y_test_rf_pred)\n",
    "\n",
    "print(\"Important features - Train Accuracy: \", train_accuracy)\n",
    "print(\"Important features - Test Accuracy: \", test_accuracy)"
   ]
  },
  {
   "cell_type": "markdown",
   "id": "60de9092-83c8-435f-9b1a-6b94b50b4a61",
   "metadata": {},
   "source": [
    "<h2><font color=blue> [Conclusion] - High Value Customers </font></h2>"
   ]
  },
  {
   "cell_type": "code",
   "execution_count": 42,
   "id": "1ce622db-fdc2-47aa-9e3a-e75ccb26cbab",
   "metadata": {},
   "outputs": [],
   "source": [
    "# Append the predictions to test set\n",
    "X_test_important['Churn_predicted'] = y_test_rf_pred"
   ]
  },
  {
   "cell_type": "code",
   "execution_count": 43,
   "id": "ad9e8c56-9266-452b-9e4e-469194ac618a",
   "metadata": {},
   "outputs": [
    {
     "name": "stdout",
     "output_type": "stream",
     "text": [
      "------------------------------  Mean of features where Customer Churned  ------------------------------\n",
      "arpu_8                     38.766078\n",
      "days_since_last_rech_8      6.670476\n",
      "last_day_rch_amt_8          7.705714\n",
      "loc_ic_mou_7               33.630790\n",
      "loc_ic_mou_8                0.607714\n",
      "loc_ic_t2f_mou_8            0.001838\n",
      "loc_ic_t2m_mou_7           21.139448\n",
      "loc_ic_t2m_mou_8            0.453400\n",
      "loc_ic_t2t_mou_8            0.152276\n",
      "loc_og_mou_8                0.660343\n",
      "loc_og_t2m_mou_8            0.499629\n",
      "loc_og_t2t_mou_8            0.158019\n",
      "max_rech_amt_8             16.588571\n",
      "offnet_mou_8               15.748086\n",
      "onnet_mou_8                13.596333\n",
      "roam_ic_mou_8              13.157762\n",
      "roam_og_mou_8              16.585676\n",
      "std_ic_mou_8                0.260790\n",
      "std_og_mou_8               12.153124\n",
      "total_ic_mou_7             50.243229\n",
      "total_ic_mou_8              0.914886\n",
      "total_og_mou_7            165.382390\n",
      "total_og_mou_8             12.904038\n",
      "total_rech_amt_8           33.972381\n",
      "dtype: float64\n",
      "\n",
      " ------------------------------  Mean of features where Customer did not Churn  ------------------------------\n",
      "arpu_8                    298.752602\n",
      "days_since_last_rech_8      5.288880\n",
      "last_day_rch_amt_8         67.260154\n",
      "loc_ic_mou_7              170.841637\n",
      "loc_ic_mou_8              173.327974\n",
      "loc_ic_t2f_mou_8           11.998302\n",
      "loc_ic_t2m_mou_7          109.077899\n",
      "loc_ic_t2m_mou_8          113.209873\n",
      "loc_ic_t2t_mou_8           48.110605\n",
      "loc_og_mou_8              144.653036\n",
      "loc_og_t2m_mou_8           94.123334\n",
      "loc_og_t2t_mou_8           46.827520\n",
      "max_rech_amt_8            115.501931\n",
      "offnet_mou_8              199.735597\n",
      "onnet_mou_8               137.053307\n",
      "roam_ic_mou_8               5.925961\n",
      "roam_og_mou_8               8.254988\n",
      "std_ic_mou_8               35.082690\n",
      "std_og_mou_8              179.849486\n",
      "total_ic_mou_7            214.627074\n",
      "total_ic_mou_8            217.376679\n",
      "total_og_mou_7            323.982156\n",
      "total_og_mou_8            330.462797\n",
      "total_rech_amt_8          348.170270\n",
      "dtype: float64\n"
     ]
    }
   ],
   "source": [
    "\n",
    "print('--'*15, ' Mean of features where Customer Churned ', '--'*15)\n",
    "mean_arpu_8_Churned = X_test_important[X_test_important['Churn_predicted'] == 1][important_features['Variable_Name']].mean()\n",
    "print(mean_arpu_8_Churned.sort_index())\n",
    "\n",
    "print('\\n', '--'*15, ' Mean of features where Customer did not Churn ', '--'*15)\n",
    "mean_arpu_8_NOTChurned = X_test_important[X_test_important['Churn_predicted'] == 0][important_features['Variable_Name']].mean()\n",
    "print(mean_arpu_8_NOTChurned.sort_index())"
   ]
  },
  {
   "cell_type": "markdown",
   "id": "ad8327c5-a697-4b51-a895-59a1bbe0ba50",
   "metadata": {},
   "source": [
    "<h2><font color=darkgreen> [Conclusion] - High Value customers based on important features </font></h2>\n",
    "<article><font color=green>Important features were derived using <b>RandomForest Classifier</b></font></article>\n",
    "\n",
    "<b><i>Following are high value customers compared to churned and not churned customers</i></b>\n",
    "\n",
    "1. **AON** - Higher average Age on network\n",
    "2. **arpu_8** - Average revenue per user for August month is higher\n",
    "3. **loc_ic_mou_8 loc_og_mou_8 loc_og_t2m_mou_8 loc_og_t2t_mou_8** - Local incoming and outgoing calls on and off network are much higher for the month of August stating frequent usage for calling\n",
    "4. **max_rech_amt_8 total_rech_amt_8** - Maximum and total recharge amounts are higher stating that they actively use the network\n",
    "5. **std_ic_mou_8** - Relatively higher std incoming calls means roaming coverage\n",
    "\n",
    "<b>Based on above marketing strategies can be introduced for high value customers</b>\n",
    "\n",
    "1. **AON** - Define a threshold of age on network and reward with shopping voucher accordingly and also target next threshold and amount of shopping voucher that they could earn\n",
    "2. **arpu_8** - Higher Average revenue can be rewarded with customer specific lower rate or telecom packages with add-ons like data plan/ OTT subscriptions\n",
    "3. **loc_ic_mou_8 loc_og_mou_8 loc_og_t2m_mou_8 loc_og_t2t_mou_8** - Unlimited call plans with added roaming benefits can be introduced\n",
    "4. **max_rech_amt_8 total_rech_amt_8** - can be rewarded with family plan packs and add on plans\n",
    "5. **std_ic_mou_8** - Unlimited call/ data plans with added roaming benefits can be introduced\n"
   ]
  },
  {
   "cell_type": "markdown",
   "id": "e0bba626-7966-4873-8381-3720b5a42385",
   "metadata": {},
   "source": [
    "<h2><font color=darkgreen> [Conclusion] - Important features </font></h2>\n",
    "<article><font color=green>Important features were derived using <b>RandomForest Classifier</b></font></article>\n",
    "\n",
    "1. **loc_ic_mou_8** - Local calls  within same telecom circle - Incoming calls - Minutes of usage  voice calls - During August Month\n",
    "2. **loc_ic_t2m_mou_8** - Local calls  within same telecom circle - Incoming calls - Operator T to other operator mobile - Minutes of usage  voice calls\n",
    "3. **total_ic_mou_8** - Total Incoming calls - Minutes of usage  voice calls - During August Month\n",
    "4. **total_og_mou_8** - Total Outgoing calls - Minutes of usage  voice calls - During August Month\n",
    "5. **loc_og_mou_8** - Local calls  within same telecom circle - Outgoing calls - Minutes of usage  voice calls - During August Month\n",
    "6. **loc_og_t2m_mou_8** - Local calls  within same telecom circle - Outgoing calls - Operator T to other operator mobile - Minutes of usage  voice calls - During August Month\n",
    "7. **loc_ic_t2t_mou_8** - Local calls  within same telecom circle - Incoming calls - Operator T to T ie within same operator mobile to mobile - Minutes of usage  voice calls - During August Month\n",
    "8. **arpu_8** - Average revenue per user - During August Month\n",
    "9. **max_rech_amt_8** - Maximum - Recharge - Amount - During August Month\n",
    "10. **offnet_mou_8** - All kind of calls outside the operator T network - Minutes of usage  voice calls - During August Month\n",
    "11. **loc_og_t2t_mou_8** - Local calls  within same telecom circle - Outgoing calls - Operator T to T ie within same operator mobile to mobile - Minutes of usage  voice calls - During August Month\n",
    "12. **onnet_mou_8** - All kind of calls within the same operator network - Minutes of usage  voice calls - During August Month\n",
    "13. **last_day_rch_amt_8** - Last Day Recharge amount - During August Month\n",
    "14. **total_rech_amt_8** - Total Recharge amount - During August Month\n",
    "15. **loc_ic_mou_7** - Local calls  within same telecom circle - Incoming calls - Minutes of usage  voice calls - During August July\n",
    "16. **std_ic_mou_8** - STD calls  outside the calling circle - Incoming calls - Minutes of usage  voice calls - During August August\n",
    "17. **AON** - Age on network number of days"
   ]
  },
  {
   "cell_type": "markdown",
   "id": "bda6ec21-b49b-4e42-bead-e1cceec3df5e",
   "metadata": {},
   "source": [
    "<h2><font color=green> [Conclusion] - Metrics </font></h2>\n",
    "\n",
    "<i>Since the metric of importance was <b>Accuracy</b>, while doing hyperparameter tuning scoring='accuracy' was provided  </i>\n",
    "\n",
    "<h3>Logistic Regression</h3>\n",
    "<ol>\n",
    "    <font color=teal><li><b>Accuracy(Training Data): </b>0.9089805175092412</li>\n",
    "    <li><b>Accuracy(Test Data): </b>0.9102857142857143</li></font>\n",
    "    <li><b>Precision: </b>0.6440677966101694</li>\n",
    "    <li><b>F1 Score: </b>0.3261802575107296</li>\n",
    "    <li><b>AUC: </b>61</li>\n",
    "</ol>\n",
    "<article>\n",
    "    <b><i>Conclusion:</i></b>\n",
    "    <ul>\n",
    "        <li>Since accuracy for train and test data is marginally(0.01) apart, the model is a good fit </li>\n",
    "        <li>AUC: Low AUC means the model performs slightly better than random probability(0.5). To overcome this:  </li>\n",
    "    </ul>\n",
    "</article>\n",
    "\n",
    "---\n",
    "\n",
    "<h3>Random Forest</h3>\n",
    "<ol>\n",
    "    <font color=teal><li><b>Accuracy(before feature importance): </b>0.9417489884481545</li>\n",
    "    <li><b>Accuracy(on important features): 0.9089805175092412</b></li></font>\n",
    "    <li><b>Gini mean score: </b>0.9411513161999879</li>\n",
    "    <li><b>Entropy mean score: </b>0.9412052603167446</li>\n",
    "</ol>\n",
    "<article>\n",
    "    <b><i>Conclusion:</i></b>\n",
    "    <ul>\n",
    "        <li>Since accuracy for train and test data is marginally(0.01) apart, the model is a good fit </li>\n",
    "        <li>AUC: Low AUC means the model performs slightly better than random probability(0.5)</li>\n",
    "    </ul>\n",
    "</article>\n",
    "\n",
    "--- \n",
    "<br/>\n",
    "<h4><p>Both the models showed low AUC</p></h4>\n",
    " To overcome this: \n",
    "<ul>\n",
    "    <li>Feature Engineering - remove correlated features, feature transformation</li>\n",
    "    <li>Feature Scaling - Standard/ Min Max</li>\n",
    "    <li>Apply more complex models - SVM, Gradient Boosting</li>\n",
    "    <li>Regularization</li>\n",
    "    <li>Hyperparameter tuning</li>\n",
    "    <li>Cross validation</li>\n",
    "    <font color=grey><i>Since Accuracy was the metric of importance here, skipping above steps </i></font>\n",
    "</ul>\n",
    "\n",
    "---\n",
    "\n",
    "<h3>Model with only Important features</h3>\n",
    "<ul>\n",
    "    <li><b>Important features - Train Accuracy: </b> 0.9852675940641797</li>\n",
    "    <li><b>Important features - Test Accuracy: </b> 0.9435</li>\n",
    "</ul>\n",
    "\n",
    "\n",
    "---\n",
    "\n",
    "<h2><font color=green> [Conclusion] - High Value Customers </font></h2>\n",
    "<ul>\n",
    "    <li><b>Important features - Train Accuracy: </b> 0.9852675940641797</li>\n",
    "    <li><b>Important features - Test Accuracy: </b> 0.9435</li>\n",
    "</ul>"
   ]
  },
  {
   "cell_type": "code",
   "execution_count": null,
   "id": "83adb89d-afed-4eb3-92f5-2530432daefc",
   "metadata": {},
   "outputs": [],
   "source": []
  }
 ],
 "metadata": {
  "kernelspec": {
   "display_name": "Python 3 (ipykernel)",
   "language": "python",
   "name": "python3"
  },
  "language_info": {
   "codemirror_mode": {
    "name": "ipython",
    "version": 3
   },
   "file_extension": ".py",
   "mimetype": "text/x-python",
   "name": "python",
   "nbconvert_exporter": "python",
   "pygments_lexer": "ipython3",
   "version": "3.12.4"
  }
 },
 "nbformat": 4,
 "nbformat_minor": 5
}
